{
  "cells": [
    {
      "cell_type": "code",
      "execution_count": null,
      "metadata": {
        "colab": {
          "base_uri": "https://localhost:8080/"
        },
        "id": "3Qic1gmyfNWu",
        "outputId": "29deb6cf-eeec-425d-ba64-df7781ee8abf"
      },
      "outputs": [],
      "source": [
        "!pip install alpaca_trade_api\n",
        "!pip install intrinio_sdk\n",
        "!pip install bs4\n",
        "\n",
        "url = 'https://launchpad.net/~mario-mariomedina/+archive/ubuntu/talib/+files'\n",
        "ext = '0.4.0-oneiric1_amd64.deb -qO'\n",
        "!wget $url/libta-lib0_$ext libta.deb\n",
        "!wget $url/ta-lib0-dev_$ext ta.deb\n",
        "!dpkg -i libta.deb ta.deb\n",
        "!pip install ta-lib"
      ]
    },
    {
      "cell_type": "code",
      "execution_count": null,
      "metadata": {
        "id": "MRjy-dU2XeJ_"
      },
      "outputs": [],
      "source": [
        "!python tuner.py tune5"
      ]
    }
  ],
  "metadata": {
    "accelerator": "GPU",
    "colab": {
      "name": "tuner.ipynb",
      "provenance": []
    },
    "kernelspec": {
      "display_name": "Python 3",
      "name": "python3"
    },
    "language_info": {
      "name": "python"
    }
  },
  "nbformat": 4,
  "nbformat_minor": 0
}
